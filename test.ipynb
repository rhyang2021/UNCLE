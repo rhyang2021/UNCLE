{
 "cells": [
  {
   "cell_type": "code",
   "execution_count": 1,
   "metadata": {},
   "outputs": [],
   "source": [
    "import json"
   ]
  },
  {
   "cell_type": "code",
   "execution_count": 24,
   "metadata": {},
   "outputs": [],
   "source": [
    "with open(\"/apdcephfs_cq11/share_1567347/share_info/rhyang/LoGU-followup/results/diseases/llama3-8b_repeat1_unc-zero_long-short_facts_veracity.jsonl\") as f:\n",
    "    results = [json.loads(line) for line in f]"
   ]
  },
  {
   "cell_type": "code",
   "execution_count": 29,
   "metadata": {},
   "outputs": [
    {
     "data": {
      "text/plain": [
       "{'entity': 'Tuberculosis',\n",
       " 'prompt': 'In a paragraph, introduce the disease Tuberculosis, including medical examination, health specialty, cause, maximal incubation period, treatment, transmission process.',\n",
       " 'individual_qa': [{'question': 'What medical examinations are used to diagnose Tuberculosis?',\n",
       "   'answer': ['Ziehl-Neelsen stain',\n",
       "    'Mantoux test',\n",
       "    'chest radiograph',\n",
       "    'chest photofluorography',\n",
       "    'QuantiFERON',\n",
       "    'GeneXpert MTB/RIF',\n",
       "    'lung biopsy',\n",
       "    'sputum culture',\n",
       "    'T-SPOT.TB',\n",
       "    'Tuberculosis radiology',\n",
       "    'chest CT',\n",
       "    'TB-LAM in the Diagnosis of TB'],\n",
       "   'label': 'medical examination',\n",
       "   'description': 'medical examination',\n",
       "   'property_id': 'P923'},\n",
       "  {'question': 'What health specialty deals with Tuberculosis?',\n",
       "   'answer': ['pulmonology', 'infectious diseases'],\n",
       "   'label': 'health specialty',\n",
       "   'description': 'health specialty',\n",
       "   'property_id': 'P1995'},\n",
       "  {'question': 'What causes Tuberculosis?',\n",
       "   'answer': ['Mycobacterium tuberculosis'],\n",
       "   'label': 'has cause',\n",
       "   'description': 'cause',\n",
       "   'property_id': 'P828'},\n",
       "  {'question': 'What is the maximal incubation period of Tuberculosis in humans?',\n",
       "   'answer': ['8'],\n",
       "   'label': 'maximal incubation period in humans',\n",
       "   'description': 'maximal incubation period',\n",
       "   'property_id': 'P3487'},\n",
       "  {'question': 'What are the possible treatments for Tuberculosis?',\n",
       "   'answer': ['antituberculous drug'],\n",
       "   'label': 'possible treatment',\n",
       "   'description': 'treatment',\n",
       "   'property_id': 'P924'},\n",
       "  {'question': 'How is Tuberculosis transmitted?',\n",
       "   'answer': ['airborne transmission'],\n",
       "   'label': 'disease transmission process',\n",
       "   'description': 'transmission process',\n",
       "   'property_id': 'P1060'}],\n",
       " 'properties': ['medical examination',\n",
       "  'health specialty',\n",
       "  'cause',\n",
       "  'maximal incubation period',\n",
       "  'treatment',\n",
       "  'transmission process'],\n",
       " 'gold_answers': [['Ziehl-Neelsen stain',\n",
       "   'Mantoux test',\n",
       "   'chest radiograph',\n",
       "   'chest photofluorography',\n",
       "   'QuantiFERON',\n",
       "   'GeneXpert MTB/RIF',\n",
       "   'lung biopsy',\n",
       "   'sputum culture',\n",
       "   'T-SPOT.TB',\n",
       "   'Tuberculosis radiology',\n",
       "   'chest CT',\n",
       "   'TB-LAM in the Diagnosis of TB'],\n",
       "  ['pulmonology', 'infectious diseases'],\n",
       "  ['Mycobacterium tuberculosis'],\n",
       "  ['8'],\n",
       "  ['antituberculous drug'],\n",
       "  ['airborne transmission']],\n",
       " 'individual_answers': [[\"The diagnosis of tuberculosis (TB) typically involves a combination of medical history, physical examination, and laboratory tests. The following are some of the medical examinations used to diagnose TB:\\n\\n1. **Medical History**: The doctor will ask questions about the patient's symptoms, medical history, and lifestyle to identify risk factors for TB.\\n2. **Physical Examination**: The doctor will perform a physical examination to look for signs of TB, such as:\\n\\t* Coughing up blood or phlegm\\n\\t* Chest pain or tightness\\n\\t* Coughing for three or more weeks\\n\\t* Fever\\n\\t* Weight loss\\n\\t* Night sweats\\n3. **Chest X-ray**: A chest X-ray is used to visualize the lungs and identify any abnormalities that may indicate TB. The X-ray can show signs of:\\n\\t* Pleural effusion (fluid accumulation around the lungs)\\n\\t* Lymph node enlargement\\n\\t* Pneumonia\\n4. **Sputum Smear**: A sputum smear test, also known as a Ziehl-Neelsen stain, is used to detect the presence of TB bacteria in the sputum. The test involves staining the sputum with a special dye and examining it under a microscope for the presence of acid-fast bacilli (AFB).\\n5. **Sputum Culture**: A sputum culture test is used to grow TB bacteria in a laboratory. The test involves collecting a sample of sputum and placing it on a special medium that allows the bacteria to grow. It can take several weeks to obtain results.\\n6. **Interferon-Gamma Release Assay (IGRA)**: An IGRA test is used to detect the presence of TB infection in people who have not yet developed symptoms. The test involves injecting a small amount of TB protein into the skin and measuring the reaction.\\n7. **QuantiFERON-TB Gold**: This is a blood test that measures the level of interferon-gamma (IFN-γ) in the blood, which is released when the body responds to TB infection.\\n8. **Mantoux Tuberculin Skin Test (TST)**: The TST is a skin test that involves injecting a small amount of TB protein into the skin. The test is used to detect TB infection and monitor treatment response.\\n9. **Computed Tomography (CT) Scan**: A CT scan may be used to visualize the lungs and other organs to identify any abnormalities that may indicate TB.\\n10. **Bron\",\n",
       "   'Tuberculosis (TB) is a disease that is typically managed by pulmonologists, who are medical doctors who specialize in the diagnosis, treatment, and management of lung diseases, including TB. Pulmonologists are trained to diagnose and treat a wide range of respiratory conditions, including infectious diseases like TB.\\n\\nHowever, TB is a multisystem disease that can affect other parts of the body, including the kidneys, spine, and brain. As such, other specialists may also be involved in the diagnosis and treatment of TB, including:\\n\\n1. Infectious disease specialists: These doctors specialize in the diagnosis and treatment of infections caused by bacteria, viruses, fungi, and other microorganisms, including TB.\\n2. Internal medicine specialists: These doctors may be involved in the diagnosis and treatment of TB, particularly if the disease is not limited to the lungs.\\n3. Radiologists: These doctors specialize in the interpretation of imaging tests, such as chest X-rays and CT scans, which are often used to diagnose TB.\\n4. Nephrologists: These doctors specialize in the diagnosis and treatment of kidney diseases, including TB-related kidney disease.\\n5. Neurologists: These doctors may be involved in the diagnosis and treatment of TB meningitis, which is a complication of TB that affects the brain and spinal cord.\\n\\nIn addition to these medical specialists, public health professionals, such as epidemiologists and infection control specialists, may also play a key role in preventing the spread of TB and controlling outbreaks.',\n",
       "   \"Tuberculosis (TB) is a bacterial infection caused by Mycobacterium tuberculosis (M. tuberculosis). The bacteria typically attack the lungs, but they can also affect other parts of the body such as the brain, kidneys, and spine.\\n\\nThe main causes of TB are:\\n\\n1. **Infection with M. tuberculosis bacteria**: When a person inhales droplets that contain the bacteria, usually through the air, they can become infected.\\n2. **Weakened immune system**: A person with a weakened immune system, such as someone with HIV/AIDS or taking immunosuppressive drugs, is more susceptible to developing active TB.\\n3. **Close contact with an infected person**: People who have close contact with someone who has active TB, such as a family member or roommate, are at higher risk of becoming infected.\\n4. **Poor living conditions**: People living in crowded, unsanitary conditions, or those who work in industries where they are exposed to TB bacteria, such as healthcare workers, are at higher risk.\\n5. **Malnutrition**: Malnutrition, particularly vitamin D deficiency, can increase the risk of developing TB.\\n6. **HIV infection**: People living with HIV are more susceptible to developing TB, as their immune system is weakened.\\n7. **Age**: Infants, children, and older adults are more susceptible to TB, as their immune systems are weaker.\\n8. **Underlying medical conditions**: Certain medical conditions, such as chronic lung disease, diabetes, and kidney disease, can increase the risk of developing TB.\\n\\nThe bacteria can lie dormant in the body for years, causing no symptoms, before becoming active and causing disease. Active TB can be treated with antibiotics, but if left untreated, it can be fatal.\\n\\nIt's important to note that TB is not transmitted through casual contact, such as shaking hands, hugging, or sharing food and drinks. It is primarily spread through the air when an infected person coughs, sneezes, or talks, releasing droplets that contain the bacteria.\",\n",
       "   'The maximal incubation period of Tuberculosis (TB) in humans is typically considered to be around 10-15 years, but it can range from 2-20 years or more. This means that a person can be infected with Mycobacterium tuberculosis (M. tuberculosis) and not show any symptoms of TB for many years after the initial infection.\\n\\nThe incubation period is the time between the moment of infection and the appearance of symptoms. In TB, the incubation period is influenced by several factors, including:\\n\\n1. The virulence of the M. tuberculosis strain: More virulent strains can cause disease more quickly.\\n2. The immune status of the individual: People with weakened immune systems, such as those with HIV/AIDS, may develop TB more quickly.\\n3. The route of infection: Inhaling TB bacteria from the air can lead to faster development of disease, while ingesting contaminated food or water may lead to a slower progression.\\n\\nAfter the incubation period, TB typically progresses through several stages, including:\\n\\n1. Latent infection: The bacteria remain dormant in the body, and the person is not infectious.\\n2. Active disease: The bacteria begin to multiply and cause symptoms, such as coughing, fever, and weight loss.\\n3. Advanced disease: The bacteria spread to other parts of the body, such as the lungs, brain, or spine, causing serious complications.\\n\\nEarly detection and treatment of TB can prevent the progression of the disease and reduce the risk of transmission to others.',\n",
       "   \"The treatment for tuberculosis (TB) typically involves a combination of antibiotics, and the specific regimen may vary depending on the type of TB, the severity of the disease, and the individual's overall health. Here are some common treatments for TB:\\n\\n**Drug-based treatment:**\\n\\n1. **First-line drugs:** Isoniazid (INH), rifampicin (RMP), pyrazinamide (PZA), and ethambutol (EMB) are the most commonly used first-line drugs for TB treatment.\\n2. **Second-line drugs:** These include drugs like streptomycin, kanamycin, capreomycin, and fluoroquinolones, which are used when first-line drugs are ineffective or the patient has developed resistance.\\n3. **Antiretroviral therapy (ART):** In people with HIV/AIDS who also have TB, ART is often used to treat both conditions.\\n\\n**Treatment regimens:**\\n\\n1. **Short-course regimen:** A standard 6-month treatment regimen, which typically involves taking a combination of first-line drugs for 2 months, followed by a 4-month continuation phase with rifampicin and isoniazid.\\n2. **Long-course regimen:** For patients with multi-drug-resistant TB (MDR-TB), a longer treatment regimen of 18-24 months may be necessary.\\n3. **Individualized treatment:** Treatment may be tailored to the patient's specific needs, taking into account factors such as the type of TB, the patient's health status, and any drug resistance.\\n\\n**Alternative treatments:**\\n\\n1. **Surgery:** In some cases, surgery may be necessary to remove infected tissue or to repair damage caused by TB.\\n2. **Therapeutic vaccines:** Researchers are exploring the use of therapeutic vaccines to boost the immune system's response to TB.\\n3. **Complementary therapies:** Some studies suggest that complementary therapies like nutrition supplements, herbal remedies, and traditional medicine may help alleviate TB symptoms, but their effectiveness is not yet proven.\\n\\n**Important considerations:**\\n\\n1. **Adherence:** Patients must take their medication as directed for the entire duration of treatment to prevent the development of resistance.\\n2. **Monitoring:** Regular monitoring of the patient's response to treatment, including sputum tests and chest X-rays, is crucial to ensure the treatment is effective.\\n3. **Prevention:** In areas where TB is common, vaccination with the Bacille Calmette-Guérin (BCG) vaccine can help prevent infection.\\n\\nIt's essential\",\n",
       "   \"Tuberculosis (TB) is a bacterial infection caused by Mycobacterium tuberculosis (M. tuberculosis). The bacteria typically spread from person to person through the air when an infected person coughs, sneezes, or talks, releasing droplets that contain the bacteria. These droplets can then be inhaled by someone nearby.\\n\\nThe most common ways TB is transmitted are:\\n\\n1. **Airborne transmission**: When an infected person coughs, sneezes, or talks, they release droplets that contain the bacteria into the air. If someone nearby inhales these droplets, they can become infected.\\n2. **Close contact**: People who live or work with someone who has active TB disease are at higher risk of getting infected. This is because they are more likely to be exposed to the bacteria through close contact, such as sharing food, drinks, or personal items.\\n3. **Sharing food and drinks**: Sharing food, drinks, or eating utensils with someone who has active TB disease can increase the risk of transmission.\\n4. **Sharing personal items**: Sharing personal items like towels, razors, or clothing with someone who has active TB disease can also increase the risk of transmission.\\n5. **Healthcare settings**: Healthcare workers, particularly those who work in hospitals or clinics, may be at risk of infection if they are not properly protected with personal protective equipment (PPE) when caring for patients with TB.\\n6. **Environmental contamination**: TB bacteria can survive on surfaces for several hours, so people who come into contact with contaminated surfaces may also become infected.\\n\\nIt's important to note that TB is not transmitted through:\\n\\n* Casual contact, such as shaking hands or hugging\\n* Touching or sharing personal items like phones or computers\\n* Swimming or sharing water\\n* Food or water contaminated with TB bacteria\\n\\nIf you are concerned about TB transmission or have been exposed to someone with active TB disease, it's essential to consult with a healthcare professional for guidance on reducing your risk of infection and preventing transmission.\"]],\n",
       " 'answers': [\"Tuberculosis (TB) is a bacterial infection caused by Mycobacterium tuberculosis that primarily affects the lungs, but can also affect other parts of the body. The medical examination for TB typically involves a chest X-ray, sputum test, and interferon-gamma release assay (IGRA) to diagnose the disease. Pulmonologists and infectious disease specialists are typically involved in the diagnosis and treatment of TB. The cause of TB is usually due to inhalation of the bacteria from an infected person's respiratory secretions, such as when an infected person coughs or sneezes. The maximal incubation period of TB is typically 2-8 weeks, but can range from 1-12 weeks. Treatment for TB typically involves a combination of antibiotics, such as isoniazid, rifampicin, and pyrazinamide, which can take 6-9 months to complete. TB is transmitted through the air when an infected person talks, coughs, or sneezes, releasing droplets that contain the bacteria. The bacteria can then be inhaled by a healthy person, who may become infected if they are not immune to the disease.\"],\n",
       " 'veracity_labels': [['S', 'S', 'S', 'S', 'S', 'S']],\n",
       " 'individual_veracity_labels': [['S', 'S', 'S', 'NS', 'S', 'S']]}"
      ]
     },
     "execution_count": 29,
     "metadata": {},
     "output_type": "execute_result"
    }
   ],
   "source": [
    "results[20]"
   ]
  },
  {
   "cell_type": "code",
   "execution_count": 2,
   "metadata": {},
   "outputs": [],
   "source": [
    "from openai import OpenAI, AzureOpenAI\n",
    "client = AzureOpenAI(\n",
    "                azure_endpoint=\"https://eastus.api.cognitive.microsoft.com/openai/deployments/gpt-4o-mini/chat/completions?api-version=2024-08-01-preview\", \n",
    "                api_key=\"2b1125d69663443aaaa39a4713c6dcab\",  \n",
    "                api_version=\"2024-02-01\"\n",
    "            )"
   ]
  },
  {
   "cell_type": "code",
   "execution_count": 3,
   "metadata": {},
   "outputs": [],
   "source": [
    "output = client.chat.completions.create(\n",
    "                model=\"gpt-4o-mini\",\n",
    "                messages=[{\"role\": \"user\", \"content\": \"What is the best way to treat a cold?\"}],\n",
    "                temperature=0.0,\n",
    "                n=1\n",
    "            )"
   ]
  },
  {
   "cell_type": "code",
   "execution_count": 4,
   "metadata": {},
   "outputs": [
    {
     "data": {
      "text/plain": [
       "ChatCompletion(id='chatcmpl-B0lR5aDjHGQyjtB4nyoaa6ZmoZcQZ', choices=[Choice(finish_reason='stop', index=0, logprobs=None, message=ChatCompletionMessage(content='While there is no cure for the common cold, there are several effective ways to alleviate symptoms and help your body recover. Here are some recommended strategies:\\n\\n1. **Rest**: Ensure you get plenty of sleep and take breaks during the day to help your body heal.\\n\\n2. **Stay Hydrated**: Drink plenty of fluids, such as water, herbal teas, and broths, to stay hydrated and help thin mucus.\\n\\n3. **Over-the-Counter Medications**: Consider using over-the-counter medications to relieve symptoms. Decongestants, antihistamines, and pain relievers (like ibuprofen or acetaminophen) can help manage symptoms like congestion, runny nose, and headaches.\\n\\n4. **Humidifier**: Using a humidifier can add moisture to the air, which may help ease congestion and soothe a sore throat.\\n\\n5. **Warm Salt Water Gargle**: Gargling with warm salt water can help relieve a sore throat.\\n\\n6. **Honey and Lemon**: Mixing honey and lemon in warm water can soothe a sore throat and may help with cough.\\n\\n7. **Nasal Saline Spray**: Saline nasal sprays can help relieve nasal congestion and keep nasal passages moist.\\n\\n8. **Avoid Irritants**: Stay away from smoke, strong odors, and other irritants that can worsen symptoms.\\n\\n9. **Eat Nutritious Foods**: Focus on a balanced diet rich in fruits, vegetables, and whole grains to support your immune system.\\n\\n10. **Consult a Healthcare Professional**: If symptoms persist for more than a week, worsen, or if you have underlying health conditions, consult a healthcare professional for advice.\\n\\nRemember that while these methods can help alleviate symptoms, they do not shorten the duration of a cold. Always consult with a healthcare provider for personalized advice, especially if you have other health concerns or conditions.', refusal=None, role='assistant', audio=None, function_call=None, tool_calls=None), content_filter_results={'hate': {'filtered': False, 'severity': 'safe'}, 'protected_material_code': {'filtered': False, 'detected': False}, 'protected_material_text': {'filtered': False, 'detected': False}, 'self_harm': {'filtered': False, 'severity': 'safe'}, 'sexual': {'filtered': False, 'severity': 'safe'}, 'violence': {'filtered': False, 'severity': 'safe'}})], created=1739522043, model='gpt-4o-mini-2024-07-18', object='chat.completion', service_tier=None, system_fingerprint='fp_b045b4af17', usage=CompletionUsage(completion_tokens=378, prompt_tokens=17, total_tokens=395, completion_tokens_details=CompletionTokensDetails(accepted_prediction_tokens=0, audio_tokens=0, reasoning_tokens=0, rejected_prediction_tokens=0), prompt_tokens_details=PromptTokensDetails(audio_tokens=0, cached_tokens=0)), prompt_filter_results=[{'prompt_index': 0, 'content_filter_results': {'hate': {'filtered': False, 'severity': 'safe'}, 'jailbreak': {'filtered': False, 'detected': False}, 'self_harm': {'filtered': False, 'severity': 'safe'}, 'sexual': {'filtered': False, 'severity': 'safe'}, 'violence': {'filtered': False, 'severity': 'safe'}}}])"
      ]
     },
     "execution_count": 4,
     "metadata": {},
     "output_type": "execute_result"
    }
   ],
   "source": [
    "output"
   ]
  }
 ],
 "metadata": {
  "kernelspec": {
   "display_name": "agentgym",
   "language": "python",
   "name": "python3"
  },
  "language_info": {
   "codemirror_mode": {
    "name": "ipython",
    "version": 3
   },
   "file_extension": ".py",
   "mimetype": "text/x-python",
   "name": "python",
   "nbconvert_exporter": "python",
   "pygments_lexer": "ipython3",
   "version": "3.11.10"
  }
 },
 "nbformat": 4,
 "nbformat_minor": 2
}
